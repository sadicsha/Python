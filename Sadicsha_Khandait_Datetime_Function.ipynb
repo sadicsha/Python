{
  "nbformat": 4,
  "nbformat_minor": 0,
  "metadata": {
    "kernelspec": {
      "display_name": "Python 3",
      "language": "python",
      "name": "python3"
    },
    "language_info": {
      "codemirror_mode": {
        "name": "ipython",
        "version": 3
      },
      "file_extension": ".py",
      "mimetype": "text/x-python",
      "name": "python",
      "nbconvert_exporter": "python",
      "pygments_lexer": "ipython3",
      "version": "3.6.1"
    },
    "colab": {
      "name": "Datetime_Function.ipynb",
      "provenance": [],
      "collapsed_sections": [],
      "include_colab_link": true
    }
  },
  "cells": [
    {
      "cell_type": "markdown",
      "metadata": {
        "id": "view-in-github",
        "colab_type": "text"
      },
      "source": [
        "<a href=\"https://colab.research.google.com/github/sadicsha/SADICSHA_KHANDAIT_Python_basic_codes/blob/main/Sadicsha_Khandait_Datetime_Function.ipynb\" target=\"_parent\"><img src=\"https://colab.research.google.com/assets/colab-badge.svg\" alt=\"Open In Colab\"/></a>"
      ]
    },
    {
      "cell_type": "markdown",
      "metadata": {
        "id": "5TYH7zOaPDOQ"
      },
      "source": [
        "**Write a Python program to subtract five days from current date**"
      ]
    },
    {
      "cell_type": "code",
      "metadata": {
        "colab": {
          "base_uri": "https://localhost:8080/"
        },
        "id": "318cL3pntRED",
        "outputId": "99f51457-e085-4e20-ea56-234876716cca"
      },
      "source": [
        "  \n",
        "from datetime import date, timedelta\n",
        "dt = date.today() - timedelta(5)\n",
        "print('Current Date :',date.today())\n",
        "print('5 days before Current Date :',dt)"
      ],
      "execution_count": 2,
      "outputs": [
        {
          "output_type": "stream",
          "text": [
            "Current Date : 2021-07-14\n",
            "5 days before Current Date : 2021-07-09\n"
          ],
          "name": "stdout"
        }
      ]
    },
    {
      "cell_type": "markdown",
      "metadata": {
        "id": "3RhANw8pPIX8"
      },
      "source": [
        "**Write a Python program to get current time in milliseconds in Python**"
      ]
    },
    {
      "cell_type": "code",
      "metadata": {
        "colab": {
          "base_uri": "https://localhost:8080/"
        },
        "id": "U3XwO4tMPcdm",
        "outputId": "5968bbd1-11dd-4c12-eda3-aae2c821174e"
      },
      "source": [
        "\n",
        "\n",
        "import time\n",
        "milli_sec = int(round(time.time() * 1000))\n",
        "print(milli_sec)"
      ],
      "execution_count": 1,
      "outputs": [
        {
          "output_type": "stream",
          "text": [
            "1626269956353\n"
          ],
          "name": "stdout"
        }
      ]
    },
    {
      "cell_type": "markdown",
      "metadata": {
        "id": "a-R6dyniPg9M"
      },
      "source": [
        "**Write a Python script to display the various Date Time formats.**\n",
        "\n",
        " a) Current date and time\n",
        " b) Current year\n",
        " c) Month of year\n",
        " d) Week number of the year\n",
        " e) Weekday of the week\n",
        " f) Day of year\n",
        " g) Day of the month\n",
        " h) Day of week**"
      ]
    },
    {
      "cell_type": "code",
      "metadata": {
        "colab": {
          "base_uri": "https://localhost:8080/"
        },
        "id": "ULhxlMwAPr7N",
        "outputId": "a1bdc0d0-42e2-487b-c457-e39116177fcc"
      },
      "source": [
        "\n",
        "\n",
        "import time\n",
        "import datetime\n",
        "print(\"Current date and time: \" , datetime.datetime.now())\n",
        "print(\"Current year: \", datetime.date.today().strftime(\"%Y\"))\n",
        "print(\"Month of year: \", datetime.date.today().strftime(\"%B\"))\n",
        "print(\"Week number of the year: \", datetime.date.today().strftime(\"%W\"))\n",
        "print(\"Weekday of the week: \", datetime.date.today().strftime(\"%w\"))\n",
        "print(\"Day of year: \", datetime.date.today().strftime(\"%j\"))\n",
        "print(\"Day of the month : \", datetime.date.today().strftime(\"%d\"))\n",
        "print(\"Day of week: \", datetime.date.today().strftime(\"%A\"))"
      ],
      "execution_count": 3,
      "outputs": [
        {
          "output_type": "stream",
          "text": [
            "Current date and time:  2021-07-14 13:43:06.006372\n",
            "Current year:  2021\n",
            "Month of year:  July\n",
            "Week number of the year:  28\n",
            "Weekday of the week:  3\n",
            "Day of year:  195\n",
            "Day of the month :  14\n",
            "Day of week:  Wednesday\n"
          ],
          "name": "stdout"
        }
      ]
    },
    {
      "cell_type": "markdown",
      "metadata": {
        "id": "Ym3Ls0fnQSLF"
      },
      "source": [
        "**Write a Python program to get the current time in Python.**"
      ]
    },
    {
      "cell_type": "code",
      "metadata": {
        "colab": {
          "base_uri": "https://localhost:8080/"
        },
        "id": "jWtXFUpSQSqU",
        "outputId": "7b59c516-d484-46f5-edbe-36a4c13fbb16"
      },
      "source": [
        "\n",
        "import datetime\n",
        "print(datetime.datetime.now().time())"
      ],
      "execution_count": 4,
      "outputs": [
        {
          "output_type": "stream",
          "text": [
            "13:43:11.760077\n"
          ],
          "name": "stdout"
        }
      ]
    },
    {
      "cell_type": "markdown",
      "metadata": {
        "id": "2OL6Ek_6Q5P2"
      },
      "source": [
        "**Write a Python program to convert Year/Month/Day to Day of Year in Python**"
      ]
    },
    {
      "cell_type": "code",
      "metadata": {
        "id": "qRdzCXf9Q5rq"
      },
      "source": [
        "\n",
        "import datetime\n",
        "today = datetime.datetime.now()\n",
        "day_of_year = (today - datetime.datetime(today.year, 1, 1)).days + 1\n",
        "print(day_of_year)"
      ],
      "execution_count": null,
      "outputs": []
    }
  ]
}