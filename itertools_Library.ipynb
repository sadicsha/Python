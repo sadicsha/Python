{
  "nbformat": 4,
  "nbformat_minor": 0,
  "metadata": {
    "colab": {
      "name": "itertools Library.ipynb",
      "provenance": [],
      "authorship_tag": "ABX9TyNmBG8haHtKL0pn/hi68dPJ",
      "include_colab_link": true
    },
    "kernelspec": {
      "name": "python3",
      "display_name": "Python 3"
    },
    "language_info": {
      "name": "python"
    }
  },
  "cells": [
    {
      "cell_type": "markdown",
      "metadata": {
        "id": "view-in-github",
        "colab_type": "text"
      },
      "source": [
        "<a href=\"https://colab.research.google.com/github/sadicsha/SADICSHA_KHANDAIT_Python_basic_codes/blob/main/itertools_Library.ipynb\" target=\"_parent\"><img src=\"https://colab.research.google.com/assets/colab-badge.svg\" alt=\"Open In Colab\"/></a>"
      ]
    },
    {
      "cell_type": "markdown",
      "metadata": {
        "id": "NXXce4M_G7se"
      },
      "source": [
        " itertools it is a “module that implements a number of iterator building blocks inspired by constructs from APL, Haskell, and SML… Together, they form  ‘iterator algebra’ making it possible to construct specialized tools succinctly and efficiently in pure Python.”\n",
        "\n",
        "Loosely speaking, this means that the functions in itertools “operate” on iterators to produce more complex iterators. Consider, for example, the built-in zip() function, which takes any number of iterables as arguments and returns an iterator over tuples of their corresponding elements:"
      ]
    },
    {
      "cell_type": "code",
      "metadata": {
        "colab": {
          "base_uri": "https://localhost:8080/"
        },
        "id": "QdYf8iuJCz_J",
        "outputId": "ae7bab98-496f-4227-ed87-ca5b7cc07638"
      },
      "source": [
        "# Python program to demonstrate\n",
        "# iterator module\n",
        "\n",
        "\n",
        "import operator\n",
        "import time\n",
        "\n",
        "# Defining lists\n",
        "L1 = [1, 2, 3]\n",
        "L2 = [2, 3, 4]\n",
        "\n",
        "# Starting time before map\n",
        "# function\n",
        "t1 = time.time()\n",
        "\n",
        "# Calculating result\n",
        "a, b, c = map(operator.mul, L1, L2)\n",
        "\n",
        "# Ending time after map\n",
        "# function\n",
        "t2 = time.time()\n",
        "\n",
        "# Time taken by map function\n",
        "print(\"Result:\", a, b, c)\n",
        "print(\"Time taken by map function: %.6f\" %(t2 - t1))\n",
        "\n",
        "# Starting time before naive\n",
        "# method\n",
        "t1 = time.time()\n",
        "\n",
        "# Calculating result using for loop\n",
        "print(\"Result:\", end = \" \")\n",
        "for i in range(3):\n",
        "\tprint(L1[i] * L2[i], end = \" \")\n",
        "\t\n",
        "# Ending time after naive\n",
        "# method\n",
        "t2 = time.time()\n",
        "print(\"\\nTime taken by for loop: %.6f\" %(t2 - t1))\n"
      ],
      "execution_count": 1,
      "outputs": [
        {
          "output_type": "stream",
          "text": [
            "Result: 2 6 12\n",
            "Time taken by map function: 0.000054\n",
            "Result: 2 6 12 \n",
            "Time taken by for loop: 0.001047\n"
          ],
          "name": "stdout"
        }
      ]
    },
    {
      "cell_type": "markdown",
      "metadata": {
        "id": "0NMPJDARHZGb"
      },
      "source": [
        "INFINITE ITERATORS"
      ]
    },
    {
      "cell_type": "code",
      "metadata": {
        "colab": {
          "base_uri": "https://localhost:8080/"
        },
        "id": "8UCRUHV5HcvT",
        "outputId": "923c92b5-3baa-4450-f8b5-ee5861748f5e"
      },
      "source": [
        "# Python program to demonstrate\n",
        "# infinite iterators\n",
        "\n",
        "import itertools\n",
        "\n",
        "count = 0\n",
        "\n",
        "# for in loop\n",
        "for i in itertools.cycle('AB'):\n",
        "\tif count > 7:\n",
        "\t\tbreak\n",
        "\telse:\n",
        "\t\tprint(i, end = \" \")\n",
        "\t\tcount += 1\n"
      ],
      "execution_count": 2,
      "outputs": [
        {
          "output_type": "stream",
          "text": [
            "A B A B A B A B "
          ],
          "name": "stdout"
        }
      ]
    },
    {
      "cell_type": "code",
      "metadata": {
        "colab": {
          "base_uri": "https://localhost:8080/"
        },
        "id": "G_KdnadjHtIm",
        "outputId": "494e4d49-e9b6-437a-d0f4-83fc97af9fcb"
      },
      "source": [
        "# Python program to demonstrate\n",
        "# infinite iterators\n",
        "\n",
        "import itertools\n",
        "\n",
        "# for in loop\n",
        "for i in itertools.count(5, 5):\n",
        "\tif i == 35:\n",
        "\t\tbreak\n",
        "\telse:\n",
        "\t\tprint(i, end =\" \")\n"
      ],
      "execution_count": 3,
      "outputs": [
        {
          "output_type": "stream",
          "text": [
            "5 10 15 20 25 30 "
          ],
          "name": "stdout"
        }
      ]
    },
    {
      "cell_type": "code",
      "metadata": {
        "colab": {
          "base_uri": "https://localhost:8080/"
        },
        "id": "25TJWOK2Ir9k",
        "outputId": "dbd44b97-e4c1-46c6-d805-e9634567b123"
      },
      "source": [
        "# Python program to demonstrate\n",
        "# infinite iterators\n",
        "\n",
        "import itertools\n",
        "\n",
        "l = ['sadicsha' ' khandait  ']\n",
        "\n",
        "# defining iterator\n",
        "iterators = itertools.cycle(l)\n",
        "\n",
        "# for in loop\n",
        "for i in range(6):\n",
        "\t\n",
        "\t# Using next function\n",
        "\tprint(next(iterators), end = \" \")\n"
      ],
      "execution_count": 7,
      "outputs": [
        {
          "output_type": "stream",
          "text": [
            "sadicsha khandait   sadicsha khandait   sadicsha khandait   sadicsha khandait   sadicsha khandait   sadicsha khandait   "
          ],
          "name": "stdout"
        }
      ]
    },
    {
      "cell_type": "markdown",
      "metadata": {
        "id": "rZNigmeUI_cp"
      },
      "source": [
        "COMBINATRONIC ITERATORS :The recursive generators that are used to simplify combinatorial constructs such as permutations, combinations, and Cartesian products are called combinatoric iterators."
      ]
    },
    {
      "cell_type": "markdown",
      "metadata": {
        "id": "wp16y9dLJKpy"
      },
      "source": [
        "1)Product(): This tool computes the cartesian product of input iterables. To compute the product of an iterable with itself, we use the optional repeat keyword argument to specify the number of repetitions. The output of this function are tuples in sorted order."
      ]
    },
    {
      "cell_type": "code",
      "metadata": {
        "id": "TKix85apJU1T"
      },
      "source": [
        "# import the product function from itertools module\n",
        "from itertools import product\n",
        "\n",
        "print(\"The cartesian product using repeat:\")\n",
        "print(list(product([1, 2], repeat = 2)))\n",
        "print()\n",
        "\n",
        "print(\"The cartesian product of the containers:\")\n",
        "print(list(product(['geeks', 'for', 'geeks'], '2')))\n",
        "print()\n",
        "\n",
        "print(\"The cartesian product of the containers:\")\n",
        "print(list(product('AB', [3, 4])))"
      ],
      "execution_count": null,
      "outputs": []
    },
    {
      "cell_type": "markdown",
      "metadata": {
        "id": "iMxK7fTmJV9P"
      },
      "source": [
        "2)Permutations(): Permutations() as the name speaks for itself is used to generate all possible permutations of an iterable. All elements are treated as unique based on their position and not their values. This function takes an iterable and group_size, if the value of group_size is not specified or is equal to None then the value of group_size becomes length of the iterable."
      ]
    },
    {
      "cell_type": "code",
      "metadata": {
        "colab": {
          "base_uri": "https://localhost:8080/"
        },
        "id": "azh9KGf8JbDS",
        "outputId": "4cbbe65c-a487-4fcc-ef0d-29fb46edbc5e"
      },
      "source": [
        "# import the product function from itertools module\n",
        "from itertools import permutations\n",
        "\n",
        "print (\"All the permutations of the given list is:\")\n",
        "print (list(permutations([1, 'geeks'], 2)))\n",
        "print()\n",
        "  #terminating iterators\n",
        "print (\"All the permutations of the given string is:\")\n",
        "print (list(permutations('AB')))\n",
        "print()\n",
        "\n",
        "print (\"All the permutations of the given container is:\")\n",
        "print(list(permutations(range(3), 2)))\n"
      ],
      "execution_count": 12,
      "outputs": [
        {
          "output_type": "stream",
          "text": [
            "All the permutations of the given list is:\n",
            "[(1, 'geeks'), ('geeks', 1)]\n",
            "\n",
            "All the permutations of the given string is:\n",
            "[('A', 'B'), ('B', 'A')]\n",
            "\n",
            "All the permutations of the given container is:\n",
            "[(0, 1), (0, 2), (1, 0), (1, 2), (2, 0), (2, 1)]\n"
          ],
          "name": "stdout"
        }
      ]
    },
    {
      "cell_type": "markdown",
      "metadata": {
        "id": "_mtG9pxZJqr7"
      },
      "source": [
        "3)Combinations(): This iterator prints all the possible combinations(without replacement) of the container passed in arguments in the specified group size in sorted order."
      ]
    },
    {
      "cell_type": "code",
      "metadata": {
        "colab": {
          "base_uri": "https://localhost:8080/"
        },
        "id": "UV35dDHWJpha",
        "outputId": "2208e932-84d7-47fe-e37c-8eef6e2e9192"
      },
      "source": [
        "# import combinations from itertools module\n",
        "\n",
        "from itertools import combinations\n",
        "\n",
        "print (\"All the combination of list in sorted order(without replacement) is:\")\n",
        "print(list(combinations(['A', 2], 2)))\n",
        "print()\n",
        "\n",
        "print (\"All the combination of string in sorted order(without replacement) is:\")\n",
        "print(list(combinations('AB', 2)))\n",
        "print()\n",
        "\n",
        "print (\"All the combination of list in sorted order(without replacement) is:\")\n",
        "print(list(combinations(range(2), 1)))\n"
      ],
      "execution_count": 13,
      "outputs": [
        {
          "output_type": "stream",
          "text": [
            "All the combination of list in sorted order(without replacement) is:\n",
            "[('A', 2)]\n",
            "\n",
            "All the combination of string in sorted order(without replacement) is:\n",
            "[('A', 'B')]\n",
            "\n",
            "All the combination of list in sorted order(without replacement) is:\n",
            "[(0,), (1,)]\n"
          ],
          "name": "stdout"
        }
      ]
    }
  ]
}