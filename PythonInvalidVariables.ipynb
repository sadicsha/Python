{
  "nbformat": 4,
  "nbformat_minor": 0,
  "metadata": {
    "colab": {
      "name": "PythonInvalidVariables.ipynb",
      "provenance": [],
      "collapsed_sections": []
    },
    "kernelspec": {
      "name": "python3",
      "display_name": "Python 3"
    },
    "language_info": {
      "name": "python"
    }
  },
  "cells": [
    {
      "cell_type": "markdown",
      "metadata": {
        "id": "E1wdo3TArEzk"
      },
      "source": [
        "# Python Invalid Variables\n",
        "\n",
        "**Rules for creating variables in Python:**\n",
        "\n",
        "1. A variable name must start with a letter or the underscore character.\n",
        "2. A variable name cannot start with a number.\n",
        "3. A variable name can only contain alpha-numeric characters and underscores (A-z, 0-9, and _ ).\n",
        "4. Variable names are case-sensitive (name, Name and NAME are three different variables).\n",
        "5. The reserved words(keywords) cannot be used naming the variable."
      ]
    },
    {
      "cell_type": "code",
      "metadata": {
        "id": "WFjlOMdSk9pN"
      },
      "source": [
        "name = \"Python Programming\"\n",
        "print(name)"
      ],
      "execution_count": null,
      "outputs": []
    },
    {
      "cell_type": "code",
      "metadata": {
        "id": "Kaeb2ShzlSDq"
      },
      "source": [
        "Python = \"Language\"\n",
        "print(Python)"
      ],
      "execution_count": null,
      "outputs": []
    },
    {
      "cell_type": "code",
      "metadata": {
        "id": "8rL8TtUempYG"
      },
      "source": [
        "num = 12345678\n",
        "print(num)\n",
        "\n",
        "num = 3.14\n",
        "print(num)\n",
        "\n",
        "num = 9+3j\n",
        "print(num)"
      ],
      "execution_count": null,
      "outputs": []
    },
    {
      "cell_type": "code",
      "metadata": {
        "id": "knctdRRWmwC0"
      },
      "source": [
        "var_bool = True\n",
        "print(var_bool)\n",
        "\n",
        "var_bool = False\n",
        "print(var_bool)"
      ],
      "execution_count": null,
      "outputs": []
    },
    {
      "cell_type": "code",
      "metadata": {
        "id": "Jrynos3FlXkg"
      },
      "source": [
        "1Num = 123456789\n",
        "# SyntaxError: invalid syntax\n",
        "# invalid variable"
      ],
      "execution_count": null,
      "outputs": []
    },
    {
      "cell_type": "code",
      "metadata": {
        "id": "4r5QQGoBlmF9"
      },
      "source": [
        "2Num = 123456789\n",
        "# SyntaxError: invalid syntax\n",
        "# invalid variable"
      ],
      "execution_count": null,
      "outputs": []
    },
    {
      "cell_type": "code",
      "metadata": {
        "id": "DOwJHrr6lozk"
      },
      "source": [
        "!Num = 123456789\n",
        "# /bin/bash: Num: command not found\n",
        "# Exclaimation try to run the command\n",
        "# like, !pip install library\n",
        "# invalid variable"
      ],
      "execution_count": null,
      "outputs": []
    },
    {
      "cell_type": "code",
      "metadata": {
        "id": "JXUV2Ajwl1EV"
      },
      "source": [
        "@Num = 123456789\n",
        "# SyntaxError: invalid syntax\n",
        "# invalid variable"
      ],
      "execution_count": null,
      "outputs": []
    },
    {
      "cell_type": "code",
      "metadata": {
        "id": "CT84WtzjnFUs"
      },
      "source": [
        "#Num = 123456789\n",
        "# invalid variable"
      ],
      "execution_count": 12,
      "outputs": []
    },
    {
      "cell_type": "code",
      "metadata": {
        "id": "FPoOoesanNkH"
      },
      "source": [
        "$Num = 123456789\n",
        "# SyntaxError: invalid syntax\n",
        "# Invalid variable"
      ],
      "execution_count": null,
      "outputs": []
    },
    {
      "cell_type": "code",
      "metadata": {
        "id": "7yQObtvxndN_"
      },
      "source": [
        "%Num = 123456789\n",
        "# UsageError: Line magic function `%Num` not found.\n",
        "# Invalid variable"
      ],
      "execution_count": null,
      "outputs": []
    },
    {
      "cell_type": "code",
      "metadata": {
        "id": "h8R91P6spSyE"
      },
      "source": [
        "^Num = 123456789\n",
        "# SyntaxError: invalid syntax\n",
        "# Invalid variable"
      ],
      "execution_count": null,
      "outputs": []
    },
    {
      "cell_type": "code",
      "metadata": {
        "id": "5RdKlDj6pjQo"
      },
      "source": [
        "&Num = 123456789\n",
        "# SyntaxError: invalid syntax\n",
        "# Invalid variable"
      ],
      "execution_count": null,
      "outputs": []
    },
    {
      "cell_type": "code",
      "metadata": {
        "id": "mkKQA0EHptYP"
      },
      "source": [
        "*Num = 123456789\n",
        "# SyntaxError: invalid syntax\n",
        "# Invalid variable\n",
        "# SyntaxError: starred assignment target must be in a list or tuple"
      ],
      "execution_count": null,
      "outputs": []
    },
    {
      "cell_type": "code",
      "metadata": {
        "id": "gnRlkqwqp5n7"
      },
      "source": [
        "(Num = 123456789\n",
        "# SyntaxError: invalid syntax\n",
        "# Invalid variable"
      ],
      "execution_count": null,
      "outputs": []
    },
    {
      "cell_type": "code",
      "metadata": {
        "id": "ox_qyJKLqCXl"
      },
      "source": [
        ")Num = 123456789\n",
        "# SyntaxError: invalid syntax\n",
        "# Invalid variable"
      ],
      "execution_count": null,
      "outputs": []
    },
    {
      "cell_type": "code",
      "metadata": {
        "id": "t3T1kOJcqGlB"
      },
      "source": [
        "-Num = 123456789\n",
        "# SyntaxError: invalid syntax\n",
        "# Invalid variable\n",
        "# SyntaxError: can't assign to operator"
      ],
      "execution_count": null,
      "outputs": []
    },
    {
      "cell_type": "code",
      "metadata": {
        "id": "xpiuDHsaqNg6"
      },
      "source": [
        "+Num = 123456789\n",
        "# SyntaxError: invalid syntax\n",
        "# Invalid variable\n",
        "# SyntaxError: can't assign to operator"
      ],
      "execution_count": null,
      "outputs": []
    },
    {
      "cell_type": "code",
      "metadata": {
        "id": "-zE6xCl6qWtj"
      },
      "source": [
        "=Num = 123456789\n",
        "# SyntaxError: invalid syntax\n",
        "# Invalid variable"
      ],
      "execution_count": null,
      "outputs": []
    },
    {
      "cell_type": "code",
      "metadata": {
        "id": "JcsVwzT4qbpm"
      },
      "source": [
        ">Num = 123456789\n",
        "# SyntaxError: invalid syntax\n",
        "# Invalid variable"
      ],
      "execution_count": null,
      "outputs": []
    },
    {
      "cell_type": "code",
      "metadata": {
        "id": "FdGRfW0HqgIv"
      },
      "source": [
        "<Num = 123456789\n",
        "# SyntaxError: invalid syntax\n",
        "# Invalid variable"
      ],
      "execution_count": null,
      "outputs": []
    },
    {
      "cell_type": "code",
      "metadata": {
        "id": "_UFN9gPMqnpy"
      },
      "source": [
        "?Num = 123456789\n",
        "# SyntaxError: invalid syntax\n",
        "# Invalid variable\n",
        "# Object `Num` not found."
      ],
      "execution_count": null,
      "outputs": []
    },
    {
      "cell_type": "code",
      "metadata": {
        "colab": {
          "base_uri": "https://localhost:8080/"
        },
        "id": "e7mDshCdqtU6",
        "outputId": "ee9c7b60-30a2-42d8-aa21-c03ae1e74ace"
      },
      "source": [
        "_Num = 123456789\n",
        "print(_Num)"
      ],
      "execution_count": 27,
      "outputs": [
        {
          "output_type": "stream",
          "text": [
            "123456789\n"
          ],
          "name": "stdout"
        }
      ]
    },
    {
      "cell_type": "code",
      "metadata": {
        "colab": {
          "base_uri": "https://localhost:8080/"
        },
        "id": "qHLf1Uyhq66x",
        "outputId": "f9009903-07ab-46ba-bc12-1b004d1c8cf9"
      },
      "source": [
        "__Num = 123456789\n",
        "print(_Num)"
      ],
      "execution_count": 28,
      "outputs": [
        {
          "output_type": "stream",
          "text": [
            "123456789\n"
          ],
          "name": "stdout"
        }
      ]
    }
  ]
}