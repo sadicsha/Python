{
  "nbformat": 4,
  "nbformat_minor": 0,
  "metadata": {
    "colab": {
      "name": "Python Area FormulaFunction.ipynb",
      "provenance": [],
      "collapsed_sections": [],
      "include_colab_link": true
    },
    "kernelspec": {
      "display_name": "Python 3",
      "language": "python",
      "name": "python3"
    },
    "language_info": {
      "codemirror_mode": {
        "name": "ipython",
        "version": 3
      },
      "file_extension": ".py",
      "mimetype": "text/x-python",
      "name": "python",
      "nbconvert_exporter": "python",
      "pygments_lexer": "ipython3",
      "version": "3.9.5"
    }
  },
  "cells": [
    {
      "cell_type": "markdown",
      "metadata": {
        "id": "view-in-github",
        "colab_type": "text"
      },
      "source": [
        "<a href=\"https://colab.research.google.com/github/sadicsha/Python_basic_codes/blob/main/Python_Area_FormulaFunction.ipynb\" target=\"_parent\"><img src=\"https://colab.research.google.com/assets/colab-badge.svg\" alt=\"Open In Colab\"/></a>"
      ]
    },
    {
      "cell_type": "markdown",
      "metadata": {
        "id": "mYyB-Wh1EO4g"
      },
      "source": [
        "# Area of different shapes\n",
        "\n",
        "Square\tSquare\tA=l2\tl: length of side\n",
        "\n",
        "Rectangle\tRectangle\tA=w×h\tw: width h: height\n",
        "\n",
        "Triangle\tTriangle\tA=b×h2 \tb: base h: height\n",
        "\n",
        "Rhombus\tRhombus\tA=D×d2\tD: large diagonal d: small diagonal\n",
        "\n",
        "Trapezoid\tTrapezoid\tA=B+b2×h \tB: large side b : small side h: height\n",
        "\n",
        "Regular polygon\tRegular polygon\tA=P2×a P: perimeter a: apothem\n",
        "\n",
        "Circle\tCircle\tA=πr2 P=2πr r: radius P: perimeter\n",
        "\n",
        "Cone (lateral surface)\tcone\tA=πr×s r: radius s: slant height\n",
        "\n",
        "Sphere (surface area)\tsphere\tA=4πr2 r: radius"
      ]
    },
    {
      "cell_type": "code",
      "metadata": {
        "id": "GOrqPHY8ELDO"
      },
      "source": [
        "def AreaofSquare (length_of_side):\n",
        "  print (\"Areaof-Square is: \", length_of_side*length_of_side)"
      ],
      "execution_count": null,
      "outputs": []
    },
    {
      "cell_type": "code",
      "metadata": {
        "colab": {
          "base_uri": "https://localhost:8080/"
        },
        "id": "PwkuvWmPGtsx",
        "outputId": "72dbd483-56fe-4b01-ac4b-ffd2877b07ec"
      },
      "source": [
        "AreaofSquare(9)"
      ],
      "execution_count": null,
      "outputs": [
        {
          "output_type": "stream",
          "text": [
            "Areaof-Square is:  81\n"
          ],
          "name": "stdout"
        }
      ]
    },
    {
      "cell_type": "code",
      "metadata": {
        "id": "w7m-PX1hIiFk"
      },
      "source": [
        "def AreaofRectangle (width, height):\n",
        "  print(\"Areaof-Rectangle is: \", width * height)"
      ],
      "execution_count": null,
      "outputs": []
    },
    {
      "cell_type": "code",
      "metadata": {
        "colab": {
          "base_uri": "https://localhost:8080/"
        },
        "id": "fKfrHM6LJAeh",
        "outputId": "c927283b-b00d-4dcd-ff6d-a26efa0dff3a"
      },
      "source": [
        "AreaofRectangle(10, 20)"
      ],
      "execution_count": null,
      "outputs": [
        {
          "output_type": "stream",
          "text": [
            "Areaof-Rectangle is:  200\n"
          ],
          "name": "stdout"
        }
      ]
    },
    {
      "cell_type": "code",
      "metadata": {
        "id": "Ai55bTDKJEZ7"
      },
      "source": [
        "def AreaofTriangle (base, height):\n",
        "  print(\"Areaof-Triangle is: \", (base * height)/2)"
      ],
      "execution_count": null,
      "outputs": []
    },
    {
      "cell_type": "code",
      "metadata": {
        "colab": {
          "base_uri": "https://localhost:8080/"
        },
        "id": "Nz9LTEtrJjUB",
        "outputId": "d189d042-dfdb-4ddd-afa8-26d2dc83ec5b"
      },
      "source": [
        "AreaofTriangle(30, 14)"
      ],
      "execution_count": null,
      "outputs": [
        {
          "output_type": "stream",
          "text": [
            "Areaof-Triangle is:  210.0\n"
          ],
          "name": "stdout"
        }
      ]
    },
    {
      "cell_type": "code",
      "metadata": {
        "id": "Q6ETyGpZJoPD"
      },
      "source": [
        "def AreaofRhombus(large_diagonal, small_diagonal):\n",
        "  print (\"Areaof-Rhombus is:\", (large_diagonal * small_diagonal)/2)"
      ],
      "execution_count": null,
      "outputs": []
    },
    {
      "cell_type": "code",
      "metadata": {
        "colab": {
          "base_uri": "https://localhost:8080/"
        },
        "id": "ISA47uWPKRuV",
        "outputId": "12586775-9794-4894-e6ab-72590ad7054e"
      },
      "source": [
        "AreaofRhombus(100, 50)"
      ],
      "execution_count": null,
      "outputs": [
        {
          "output_type": "stream",
          "text": [
            "Areaof-Rhombus is: 2500.0\n"
          ],
          "name": "stdout"
        }
      ]
    },
    {
      "cell_type": "code",
      "metadata": {
        "id": "xQelG76BKfUO"
      },
      "source": [
        "def AreaofTrapezoid(large_side, small_side, height):\n",
        "  print (\"Areaof-Trapezoid is:\", ((large_side + small_side)/2 ) * height)"
      ],
      "execution_count": null,
      "outputs": []
    },
    {
      "cell_type": "code",
      "metadata": {
        "colab": {
          "base_uri": "https://localhost:8080/"
        },
        "id": "ZDTIqL8AM0m-",
        "outputId": "c5a0707c-027a-4b76-f8a6-27328d386221"
      },
      "source": [
        "AreaofTrapezoid(10, 7, 20)"
      ],
      "execution_count": null,
      "outputs": [
        {
          "output_type": "stream",
          "text": [
            "Areaof-Trapezoid is: 170.0\n"
          ],
          "name": "stdout"
        }
      ]
    },
    {
      "cell_type": "code",
      "metadata": {
        "id": "eRL6JO5nM5P4"
      },
      "source": [
        "def AreaofRegularPolygon (perimeter, apothem):\n",
        "  print(\"Areaof-Regular Polygon is: \", (perimeter/2)*apothem)"
      ],
      "execution_count": null,
      "outputs": []
    },
    {
      "cell_type": "code",
      "metadata": {
        "colab": {
          "base_uri": "https://localhost:8080/"
        },
        "id": "XRFFB0yfNTXT",
        "outputId": "98741878-5538-4246-d247-03e080df689b"
      },
      "source": [
        "AreaofRegularPolygon(10, 20)"
      ],
      "execution_count": null,
      "outputs": [
        {
          "output_type": "stream",
          "text": [
            "Areaof-Regular Polygon is:  100.0\n"
          ],
          "name": "stdout"
        }
      ]
    },
    {
      "cell_type": "code",
      "metadata": {
        "id": "pEDocTCxNW6W"
      },
      "source": [
        "def AreaofCircle(radius):\n",
        "  pi = 3.141592653589793238\n",
        "  print(\"Areaof-Circle is: \", pi * (radius * radius))"
      ],
      "execution_count": null,
      "outputs": []
    },
    {
      "cell_type": "code",
      "metadata": {
        "colab": {
          "base_uri": "https://localhost:8080/"
        },
        "id": "1tBPsmPYN8cG",
        "outputId": "96b08af2-cba9-49ef-81a4-2a53922cf85a"
      },
      "source": [
        "AreaofCircle(10)"
      ],
      "execution_count": null,
      "outputs": [
        {
          "output_type": "stream",
          "text": [
            "Areaof-Circle is:  314.1592653589793\n"
          ],
          "name": "stdout"
        }
      ]
    },
    {
      "cell_type": "code",
      "metadata": {
        "id": "HEDrNwi1OJnw"
      },
      "source": [
        "def PerimeterofCircle(radius):\n",
        "  pi = 3.141592653589793238\n",
        "  print(\"Perimeterof-Circle is:\", 2 * pi * radius)"
      ],
      "execution_count": null,
      "outputs": []
    },
    {
      "cell_type": "code",
      "metadata": {
        "colab": {
          "base_uri": "https://localhost:8080/"
        },
        "id": "-WHxWZD_OjKb",
        "outputId": "a7d1ef22-9f24-404e-918b-32feecc50ee5"
      },
      "source": [
        "PerimeterofCircle(10)"
      ],
      "execution_count": null,
      "outputs": [
        {
          "output_type": "stream",
          "text": [
            "Perimeterof-Circle is: 62.83185307179586\n"
          ],
          "name": "stdout"
        }
      ]
    },
    {
      "cell_type": "code",
      "metadata": {
        "id": "xJlLUjTfSrR6"
      },
      "source": [
        "def AreaofCone(radius, slant_height):\n",
        "  pi = 3.141592653589793238\n",
        "  print(\"Areaof_Cone is: \", (pi * radius * slant_height))"
      ],
      "execution_count": null,
      "outputs": []
    },
    {
      "cell_type": "code",
      "metadata": {
        "colab": {
          "base_uri": "https://localhost:8080/"
        },
        "id": "13tvZc89THBw",
        "outputId": "eae191fb-48f2-4b85-d5f3-040ef66bf2bb"
      },
      "source": [
        "AreaofCone(10, 15)"
      ],
      "execution_count": null,
      "outputs": [
        {
          "output_type": "stream",
          "text": [
            "Areaof_Cone is:  471.23889803846896\n"
          ],
          "name": "stdout"
        }
      ]
    },
    {
      "cell_type": "code",
      "metadata": {
        "id": "lWBhEcc3TLvb"
      },
      "source": [
        "def AreaofSphere(radius):\n",
        "  pi = 3.141592653589793238\n",
        "  print(\"Areaof-Sphere is: \", 4 * pi * radius * radius)"
      ],
      "execution_count": null,
      "outputs": []
    },
    {
      "cell_type": "code",
      "metadata": {
        "colab": {
          "base_uri": "https://localhost:8080/"
        },
        "id": "B-LV_bCjT8ke",
        "outputId": "0a562ade-ff96-4b07-88dd-dd154443a4e0"
      },
      "source": [
        "AreaofSphere(10)"
      ],
      "execution_count": null,
      "outputs": [
        {
          "output_type": "stream",
          "text": [
            "Areaof-Sphere is:  1256.6370614359173\n"
          ],
          "name": "stdout"
        }
      ]
    },
    {
      "cell_type": "code",
      "metadata": {
        "colab": {
          "base_uri": "https://localhost:8080/"
        },
        "id": "qvAggnHkG5ED",
        "outputId": "f0bb6b20-1862-4c50-c8f6-722ffb05c4b1"
      },
      "source": [
        "\n",
        "# Python program to  \n",
        "# demonstrate accessing of \n",
        "# variables of nested functions \n",
        "  \n",
        "def f1(): \n",
        "    s = 'I love Python'\n",
        "      \n",
        "    def f2(): \n",
        "        print(s)\n",
        "    f2()\n",
        "f1()"
      ],
      "execution_count": null,
      "outputs": [
        {
          "output_type": "stream",
          "text": [
            "I love Python\n"
          ],
          "name": "stdout"
        }
      ]
    }
  ]
}