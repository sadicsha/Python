{
  "nbformat": 4,
  "nbformat_minor": 0,
  "metadata": {
    "colab": {
      "name": "python codes 2",
      "provenance": [],
      "collapsed_sections": [],
      "authorship_tag": "ABX9TyPvBx7cnaWSnJ0H29DSgySw",
      "include_colab_link": true
    },
    "kernelspec": {
      "name": "python3",
      "display_name": "Python 3"
    },
    "language_info": {
      "name": "python"
    }
  },
  "cells": [
    {
      "cell_type": "markdown",
      "metadata": {
        "id": "view-in-github",
        "colab_type": "text"
      },
      "source": [
        "<a href=\"https://colab.research.google.com/github/sadicsha/Python/blob/main/python_codes_2.ipynb\" target=\"_parent\"><img src=\"https://colab.research.google.com/assets/colab-badge.svg\" alt=\"Open In Colab\"/></a>"
      ]
    },
    {
      "cell_type": "markdown",
      "metadata": {
        "id": "yspGzNHxPPWF"
      },
      "source": [
        "**sum of squares of first n numbers**"
      ]
    },
    {
      "cell_type": "code",
      "metadata": {
        "colab": {
          "base_uri": "https://localhost:8080/"
        },
        "id": "NoOP0KKZPPpB",
        "outputId": "4f89da80-5856-42d1-a7a2-47f4e24d57db"
      },
      "source": [
        "n= int(input('Enter the first N numbers '))\n",
        "sum = (n*(n+1)*(2*n+1))/6\n",
        "print(\"sum of squares of first n numbers is : \",sum)"
      ],
      "execution_count": null,
      "outputs": [
        {
          "output_type": "stream",
          "text": [
            "Enter the first N numbers 5\n",
            "sum of squares of first n numbers is :  55.0\n"
          ],
          "name": "stdout"
        }
      ]
    },
    {
      "cell_type": "markdown",
      "metadata": {
        "id": "lBdvoVd5QygZ"
      },
      "source": [
        "**cube sum of first n natural numbers**"
      ]
    },
    {
      "cell_type": "code",
      "metadata": {
        "colab": {
          "base_uri": "https://localhost:8080/"
        },
        "id": "G5UrZCxTQ26_",
        "outputId": "35752139-2fe3-4100-a447-2bbfc06a02f6"
      },
      "source": [
        "n= int(input('Enter the first N numbers '))\n",
        "cube =(n* ( n + 1 ) / 2) ** 2\n",
        "print(\"cube of first n numbers is: \", cube)"
      ],
      "execution_count": null,
      "outputs": [
        {
          "output_type": "stream",
          "text": [
            "Enter the first N numbers 5\n",
            "cube of first n numbers is:  225.0\n"
          ],
          "name": "stdout"
        }
      ]
    },
    {
      "cell_type": "markdown",
      "metadata": {
        "id": "UfrZT7PDTi3T"
      },
      "source": [
        "**SQUARE ROOT**"
      ]
    },
    {
      "cell_type": "code",
      "metadata": {
        "colab": {
          "base_uri": "https://localhost:8080/"
        },
        "id": "_RH7FUEvbTOc",
        "outputId": "ade7f616-065f-4750-8ee6-7270a9a87c69"
      },
      "source": [
        "n= int(input('Enter the number '))\n",
        "sqr_root = n**0.5\n",
        "print(sqr_root)"
      ],
      "execution_count": null,
      "outputs": [
        {
          "output_type": "stream",
          "text": [
            "Enter the number 9\n",
            "3.0\n"
          ],
          "name": "stdout"
        }
      ]
    },
    {
      "cell_type": "markdown",
      "metadata": {
        "id": "uB4OJtt2b77n"
      },
      "source": [
        "**AREA OF TRIANGLE**"
      ]
    },
    {
      "cell_type": "code",
      "metadata": {
        "colab": {
          "base_uri": "https://localhost:8080/"
        },
        "id": "suswNatCb8Q7",
        "outputId": "f9fcbd47-0612-4431-bc42-65528bab340a"
      },
      "source": [
        "a =1\n",
        "b =3\n",
        "c =5\n",
        "s=(a+b+c)/2\n",
        "area=(s*(s-a)*(s-b)*(s-c))**0.5\n",
        "print('the area of triangle is: ' ,area)\n"
      ],
      "execution_count": null,
      "outputs": [
        {
          "output_type": "stream",
          "text": [
            "the area of triangle is:  (2.1045137462542978e-16+3.43693177121688j)\n"
          ],
          "name": "stdout"
        }
      ]
    },
    {
      "cell_type": "markdown",
      "metadata": {
        "id": "oGvGsb9khAGT"
      },
      "source": [
        "**SWAPPING TWO VARIABLES**"
      ]
    },
    {
      "cell_type": "code",
      "metadata": {
        "colab": {
          "base_uri": "https://localhost:8080/"
        },
        "id": "mRRbKzdehAni",
        "outputId": "6a634919-5e1b-4c5e-9913-221882c15994"
      },
      "source": [
        "a= input('enter value of a: ') \n",
        "b= input('enter value of b: ') \n",
        "\n",
        "c=a\n",
        "a=b\n",
        "b=c\n",
        "\n",
        "print('the value of a after swapping:  ',a)\n",
        "print('the value of b after swapping:  ',b)"
      ],
      "execution_count": null,
      "outputs": [
        {
          "output_type": "stream",
          "text": [
            "enter value of a: 1\n",
            "enter value of b: 2\n",
            "the value of a after swapping:   2\n",
            "the value of b after swapping:   1\n"
          ],
          "name": "stdout"
        }
      ]
    },
    {
      "cell_type": "markdown",
      "metadata": {
        "id": "Fp8v__4ImQzC"
      },
      "source": [
        "**SWAPPING WITH VARIABLE**"
      ]
    },
    {
      "cell_type": "code",
      "metadata": {
        "colab": {
          "base_uri": "https://localhost:8080/"
        },
        "id": "hlTJ9EHnmRDc",
        "outputId": "119251e2-3c61-4266-ce2a-4ab9fded9239"
      },
      "source": [
        "x=5\n",
        "y=2\n",
        "x,y=y,x\n",
        "print(\"x=\",x)\n",
        "print(\"y=\",y)"
      ],
      "execution_count": null,
      "outputs": [
        {
          "output_type": "stream",
          "text": [
            "x= 2\n",
            "y= 5\n"
          ],
          "name": "stdout"
        }
      ]
    },
    {
      "cell_type": "markdown",
      "metadata": {
        "id": "LMEM9Gk5muwx"
      },
      "source": [
        "**TO GENERATE RANDOM NUMBER 0 N 9**"
      ]
    },
    {
      "cell_type": "code",
      "metadata": {
        "colab": {
          "base_uri": "https://localhost:8080/"
        },
        "id": "6BX6eZCymvBJ",
        "outputId": "215bd3d4-a8cc-4d91-8f93-a4c2460aed3f"
      },
      "source": [
        "import random \n",
        "print(random.randint(0,9))"
      ],
      "execution_count": null,
      "outputs": [
        {
          "output_type": "stream",
          "text": [
            "8\n"
          ],
          "name": "stdout"
        }
      ]
    },
    {
      "cell_type": "markdown",
      "metadata": {
        "id": "u4KLDp7enMq6"
      },
      "source": [
        "**CONVERT KILOMETERS INTO MILES**"
      ]
    },
    {
      "cell_type": "code",
      "metadata": {
        "colab": {
          "base_uri": "https://localhost:8080/"
        },
        "id": "s_Z61yJ4nNSc",
        "outputId": "b75f0434-93a8-42e0-8427-ebecf6d266bd"
      },
      "source": [
        "kilo_meter = float(input('enter the value: '))\n",
        "conv_fac=0.621371\n",
        "miles=kilo_meter*conv_fac\n",
        "print('%0.2f kilometer is equall to %0.2f miles' %(kilo_meter, miles))"
      ],
      "execution_count": null,
      "outputs": [
        {
          "output_type": "stream",
          "text": [
            "enter the value: 4.5\n",
            "4.50 kilometer is equall to 2.80 miles\n"
          ],
          "name": "stdout"
        }
      ]
    },
    {
      "cell_type": "markdown",
      "metadata": {
        "id": "rQX2HPl-woK9"
      },
      "source": [
        "**CONVERT CELSIUS TO FAHRENITE**"
      ]
    },
    {
      "cell_type": "code",
      "metadata": {
        "colab": {
          "base_uri": "https://localhost:8080/"
        },
        "id": "saGaqIC4wonm",
        "outputId": "678b04a4-004d-4685-9d54-902fe635cdc3"
      },
      "source": [
        "celsius = float(input('enter celsius: '))\n",
        "fahrenite = (celsius*1.8)+ 32\n",
        "print('%0.2f degree Celsius is equal to %0.2f Fahrenite' %(celsius,fahrenite))"
      ],
      "execution_count": null,
      "outputs": [
        {
          "output_type": "stream",
          "text": [
            "enter celsius: 37.5\n",
            "37.50 degree Celsius is equal to 99.50 Fahrenite\n"
          ],
          "name": "stdout"
        }
      ]
    },
    {
      "cell_type": "markdown",
      "metadata": {
        "id": "_yDk6-u1zeHU"
      },
      "source": [
        "**NUMBER IS NEGATIVE, POSITIVE OR 0** "
      ]
    },
    {
      "cell_type": "code",
      "metadata": {
        "colab": {
          "base_uri": "https://localhost:8080/"
        },
        "id": "bfYuq8HKzecC",
        "outputId": "cf16861d-f1af-423f-dec4-7cab33931ad1"
      },
      "source": [
        "num = float(input('Enter the number: '))\n",
        "if num==0:\n",
        "  print(\"NUMBER IS ZERO\")\n",
        "elif num>=1:\n",
        "    print(\"number is positive\")\n",
        "else:\n",
        "    print(\"NUMBER IS NEGETIVE\")"
      ],
      "execution_count": null,
      "outputs": [
        {
          "output_type": "stream",
          "text": [
            "Enter the number: 46\n",
            "number is positive\n"
          ],
          "name": "stdout"
        }
      ]
    },
    {
      "cell_type": "markdown",
      "metadata": {
        "id": "HyycBUIW0xAx"
      },
      "source": [
        "**TO CHECK LEAP YEAR**"
      ]
    },
    {
      "cell_type": "code",
      "metadata": {
        "colab": {
          "base_uri": "https://localhost:8080/"
        },
        "id": "O0-42CDL0xXW",
        "outputId": "1cd99737-3b1a-4db6-d632-01f6ea5a4dc5"
      },
      "source": [
        "year = int(input('ENTER YEAR: '))\n",
        "if (year % 4) == 0:\n",
        "  if (year %100) ==0:\n",
        "    if (year %400) ==0:\n",
        "      print(\"{0} is a leap year \".format(year))\n",
        "    else:\n",
        "        print(\"{0} not a leap year\" .format(year))\n",
        "  else:\n",
        "      print(\"{0} not a leap year\" .format(year))\n",
        "else:\n",
        "  print(\"{0} not a leap year\" .format(year))"
      ],
      "execution_count": null,
      "outputs": [
        {
          "output_type": "stream",
          "text": [
            "ENTER YEAR: 2000\n",
            "2000 is a leap year \n"
          ],
          "name": "stdout"
        }
      ]
    },
    {
      "cell_type": "markdown",
      "metadata": {
        "id": "r_DOUMBS6J-w"
      },
      "source": [
        "**MULTIPLICATION TABLE**"
      ]
    },
    {
      "cell_type": "code",
      "metadata": {
        "colab": {
          "base_uri": "https://localhost:8080/"
        },
        "id": "YxnCepv06Kcy",
        "outputId": "5e2cbb4d-e852-4b7e-fa7e-b15a263b88a9"
      },
      "source": [
        "num = int(input('ENTER THE NUMBER:'))\n",
        "for i in range (1,11):\n",
        "  print(num,'x',i,'=',num*i)"
      ],
      "execution_count": null,
      "outputs": [
        {
          "output_type": "stream",
          "text": [
            "ENTER THE NUMBER:5\n",
            "5 x 1 = 5\n",
            "5 x 2 = 10\n",
            "5 x 3 = 15\n",
            "5 x 4 = 20\n",
            "5 x 5 = 25\n",
            "5 x 6 = 30\n",
            "5 x 7 = 35\n",
            "5 x 8 = 40\n",
            "5 x 9 = 45\n",
            "5 x 10 = 50\n"
          ],
          "name": "stdout"
        }
      ]
    },
    {
      "cell_type": "markdown",
      "metadata": {
        "id": "DC3MjAz_7vf7"
      },
      "source": [
        "**POWERS OF 2 USING ANONYMOUS FUNCTION**"
      ]
    },
    {
      "cell_type": "code",
      "metadata": {
        "colab": {
          "base_uri": "https://localhost:8080/"
        },
        "id": "5bn48ZFb7wJP",
        "outputId": "d66ee70d-a2ec-4e8f-c354-2ba463b701be"
      },
      "source": [
        "terms=11\n",
        "result =list(map(lambda x: 2**x,range(terms)))\n",
        "print(\"the total numbers of terms are :\", terms)\n",
        "for i in range(terms):\n",
        "  print(\"2 raised to power\",i,\"is\",result[i])"
      ],
      "execution_count": null,
      "outputs": [
        {
          "output_type": "stream",
          "text": [
            "the total numbers of terms are : 11\n",
            "2 raised to power 0 is 1\n",
            "2 raised to power 1 is 2\n",
            "2 raised to power 2 is 4\n",
            "2 raised to power 3 is 8\n",
            "2 raised to power 4 is 16\n",
            "2 raised to power 5 is 32\n",
            "2 raised to power 6 is 64\n",
            "2 raised to power 7 is 128\n",
            "2 raised to power 8 is 256\n",
            "2 raised to power 9 is 512\n",
            "2 raised to power 10 is 1024\n"
          ],
          "name": "stdout"
        }
      ]
    },
    {
      "cell_type": "markdown",
      "metadata": {
        "id": "oyPIWsKrAIzq"
      },
      "source": [
        "**NUMBER DIVISIBLE BY ANOTHER NUMBER**"
      ]
    },
    {
      "cell_type": "code",
      "metadata": {
        "colab": {
          "base_uri": "https://localhost:8080/"
        },
        "id": "u-ZSDDzyAJKg",
        "outputId": "7edf7f4e-4839-4b48-fd01-7c3f6f80365a"
      },
      "source": [
        "my_list = [12, 65,54,39,102,339,221]\n",
        "result=list(filter(lambda x :(x%13==0),my_list))\n",
        "print(\"NUUMBERS DIVISIBLE BY 13 ARE: \", result)"
      ],
      "execution_count": null,
      "outputs": [
        {
          "output_type": "stream",
          "text": [
            "NUUMBERS DIVISIBLE BY 13 ARE:  [65, 39, 221]\n"
          ],
          "name": "stdout"
        }
      ]
    },
    {
      "cell_type": "markdown",
      "metadata": {
        "id": "JmCYOGgPCAhz"
      },
      "source": [
        "**COVERT DECIMAL TO BINARY , OCTAL AND HEXADECIMAL**"
      ]
    },
    {
      "cell_type": "code",
      "metadata": {
        "colab": {
          "base_uri": "https://localhost:8080/"
        },
        "id": "rq5F6Q9VCA0C",
        "outputId": "17d2ff0d-9f4a-4566-dd94-c3558fc1604d"
      },
      "source": [
        "dec = 344\n",
        "print(\" the decimal value of \", dec , \"is: \")\n",
        "print(bin(dec), \"in binary.\")\n",
        "print(oct(dec), \" in octal.\")\n",
        "print(hex(dec),\"in hexadecimal.\")"
      ],
      "execution_count": null,
      "outputs": [
        {
          "output_type": "stream",
          "text": [
            " the decimal value of  344 is: \n",
            "0b101011000 in binary.\n",
            "0o530  in octal.\n",
            "0x158 in hexadecimal.\n"
          ],
          "name": "stdout"
        }
      ]
    },
    {
      "cell_type": "markdown",
      "metadata": {
        "id": "o_ANaxkCFsvI"
      },
      "source": [
        "**TO FIND ASCII VALES OF CHARACTER**"
      ]
    },
    {
      "cell_type": "code",
      "metadata": {
        "colab": {
          "base_uri": "https://localhost:8080/"
        },
        "id": "tooSHvQpFtGm",
        "outputId": "7e75672c-e77f-44eb-afeb-7b8fe87c546c"
      },
      "source": [
        "c='p'\n",
        "print('THE ASCII VALES OF',c,'IS',ord(c))"
      ],
      "execution_count": null,
      "outputs": [
        {
          "output_type": "stream",
          "text": [
            "THE ASCII VALES OF p IS 112\n"
          ],
          "name": "stdout"
        }
      ]
    },
    {
      "cell_type": "code",
      "metadata": {
        "colab": {
          "base_uri": "https://localhost:8080/"
        },
        "id": "bKSrll-U4_6O",
        "outputId": "c3a22bb1-1661-4d67-f5f4-8771cf37a67d"
      },
      "source": [
        "a = range(0, 10)\n",
        "print(list(a))\n",
        "print(tuple(a))\n",
        "print(set(a))\n",
        "print(dict(name = 'Python Programming', age = 30, father = 'Guido van Rossum'))"
      ],
      "execution_count": null,
      "outputs": [
        {
          "output_type": "stream",
          "text": [
            "[0, 1, 2, 3, 4, 5, 6, 7, 8, 9]\n",
            "(0, 1, 2, 3, 4, 5, 6, 7, 8, 9)\n",
            "{0, 1, 2, 3, 4, 5, 6, 7, 8, 9}\n",
            "{'name': 'Python Programming', 'age': 30, 'father': 'Guido van Rossum'}\n"
          ],
          "name": "stdout"
        }
      ]
    },
    {
      "cell_type": "markdown",
      "metadata": {
        "id": "jNIdcmpw5Uff"
      },
      "source": [
        "**AREA AND CUBE WITH FUNCTIONS**"
      ]
    },
    {
      "cell_type": "code",
      "metadata": {
        "id": "iPM4v6i25U6F"
      },
      "source": [
        "def area_of_sq(a):\n",
        " print(\"area of square is \", a**2)\n",
        " print(\"cube of 'a' is \", a**3)\n"
      ],
      "execution_count": null,
      "outputs": []
    },
    {
      "cell_type": "code",
      "metadata": {
        "colab": {
          "base_uri": "https://localhost:8080/"
        },
        "id": "wjkqTKGk5sEg",
        "outputId": "fec5df71-4ec9-4a55-88d4-a21126e84bae"
      },
      "source": [
        "area_of_sq(9)"
      ],
      "execution_count": null,
      "outputs": [
        {
          "output_type": "stream",
          "text": [
            "area of square is  81\n",
            "cube of 'a' is  729\n"
          ],
          "name": "stdout"
        }
      ]
    }
  ]
}