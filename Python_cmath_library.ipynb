{
  "nbformat": 4,
  "nbformat_minor": 0,
  "metadata": {
    "colab": {
      "name": "Python_cmath_library.ipynb",
      "provenance": [],
      "collapsed_sections": [],
      "include_colab_link": true
    },
    "kernelspec": {
      "name": "python3",
      "display_name": "Python 3"
    },
    "language_info": {
      "name": "python"
    }
  },
  "cells": [
    {
      "cell_type": "markdown",
      "metadata": {
        "id": "view-in-github",
        "colab_type": "text"
      },
      "source": [
        "<a href=\"https://colab.research.google.com/github/sadicsha/SADICSHA_KHANDAIT_Python_basic_codes/blob/main/Python_cmath_library.ipynb\" target=\"_parent\"><img src=\"https://colab.research.google.com/assets/colab-badge.svg\" alt=\"Open In Colab\"/></a>"
      ]
    },
    {
      "cell_type": "markdown",
      "metadata": {
        "id": "c-YMpFxDrTig"
      },
      "source": [
        "# cmath — Mathematical functions for complex numbers\n",
        "\n",
        "\n",
        "This module provides access to mathematical functions for complex numbers. The functions in this module accept integers, floating-point numbers or complex numbers as arguments. They will also accept any Python object that has either a __complex__() or a __float__() method: these methods are used to convert the object to a complex or floating-point number, respectively, and the function is then applied to the result of the conversion.\n",
        "\n"
      ]
    },
    {
      "cell_type": "code",
      "metadata": {
        "colab": {
          "base_uri": "https://localhost:8080/"
        },
        "id": "1pnwLKSgkDdr",
        "outputId": "a5055012-91df-46bc-d5fc-01e13b127b69"
      },
      "source": [
        "#import cmath for complex number operations\n",
        "import cmath\n",
        "\n",
        "#find the arc cosine of a complex number\n",
        "print (cmath.acos(2+3j))"
      ],
      "execution_count": null,
      "outputs": [
        {
          "output_type": "stream",
          "text": [
            "(1.0001435424737972-1.9833870299165355j)\n"
          ],
          "name": "stdout"
        }
      ]
    },
    {
      "cell_type": "code",
      "metadata": {
        "colab": {
          "base_uri": "https://localhost:8080/"
        },
        "id": "aIdNkJfinOSB",
        "outputId": "79fc3c19-f783-45f6-ba72-04c33fa482b6"
      },
      "source": [
        "#import cmath for complex number operations\n",
        "import cmath\n",
        "\n",
        "#find the hyperbolic arc cosine of a complex number\n",
        "print (cmath.acos(-7 -7j))"
      ],
      "execution_count": null,
      "outputs": [
        {
          "output_type": "stream",
          "text": [
            "(2.353643525119088+2.9856406810823723j)\n"
          ],
          "name": "stdout"
        }
      ]
    },
    {
      "cell_type": "code",
      "metadata": {
        "colab": {
          "base_uri": "https://localhost:8080/"
        },
        "id": "9CvE1IsunZnd",
        "outputId": "d4c1897c-523e-44a2-8d0d-2c034a7fbd3b"
      },
      "source": [
        "#import cmath for complex number operations\n",
        "import cmath\n",
        "\n",
        "#find the arc sine of a complex number\n",
        "print (cmath.asin(12 + 23j))"
      ],
      "execution_count": null,
      "outputs": [
        {
          "output_type": "stream",
          "text": [
            "(0.4805827908773633+3.9492324224400166j)\n"
          ],
          "name": "stdout"
        }
      ]
    },
    {
      "cell_type": "code",
      "metadata": {
        "colab": {
          "base_uri": "https://localhost:8080/"
        },
        "id": "Hm52P3FWniZ8",
        "outputId": "6dd4fbe0-ae87-4188-fb26-cae7862f4399"
      },
      "source": [
        "#import cmath for complex number operations\n",
        "import cmath\n",
        "\n",
        "#find the hyperbolic arc sine of a complex number\n",
        "print (cmath.asinh(-8+5j))"
      ],
      "execution_count": null,
      "outputs": [
        {
          "output_type": "stream",
          "text": [
            "(-2.9387034887363708+0.5560837203606076j)\n"
          ],
          "name": "stdout"
        }
      ]
    },
    {
      "cell_type": "code",
      "metadata": {
        "colab": {
          "base_uri": "https://localhost:8080/"
        },
        "id": "3yduicrKntHM",
        "outputId": "650f523c-6278-41ce-9975-003f86fb45b3"
      },
      "source": [
        "#import cmath for complex number operations\n",
        "import cmath\n",
        "\n",
        "#find the arc tangent of a complex number\n",
        "print (cmath.atan(-8+17j))"
      ],
      "execution_count": null,
      "outputs": [
        {
          "output_type": "stream",
          "text": [
            "(-1.548084687084108+0.0481710859573753j)\n"
          ],
          "name": "stdout"
        }
      ]
    },
    {
      "cell_type": "code",
      "metadata": {
        "colab": {
          "base_uri": "https://localhost:8080/"
        },
        "id": "Z6mUEE3wn1Q-",
        "outputId": "9c067f8a-1dd2-48da-f3e6-77d26cf5ffc2"
      },
      "source": [
        "#import cmath for complex number operations\n",
        "import cmath\n",
        "\n",
        "#find the hyperbolic arctangent of a complex number\n",
        "print (cmath.atanh(-7-23j))"
      ],
      "execution_count": null,
      "outputs": [
        {
          "output_type": "stream",
          "text": [
            "(-0.012092166962821126-1.5310191034468985j)\n"
          ],
          "name": "stdout"
        }
      ]
    },
    {
      "cell_type": "code",
      "metadata": {
        "colab": {
          "base_uri": "https://localhost:8080/"
        },
        "id": "7Kiy8PLToOAe",
        "outputId": "4292eba5-5241-4732-d4ad-1c1a6125cb04"
      },
      "source": [
        "#import cmath for complex number operations\n",
        "import cmath\n",
        "\n",
        "#find the cosine of a complex number\n",
        "print (cmath.cos(12+31j))"
      ],
      "execution_count": null,
      "outputs": [
        {
          "output_type": "stream",
          "text": [
            "(12256493393322.035+7793413014718.885j)\n"
          ],
          "name": "stdout"
        }
      ]
    },
    {
      "cell_type": "code",
      "metadata": {
        "colab": {
          "base_uri": "https://localhost:8080/"
        },
        "id": "7XSbYVUMoZGT",
        "outputId": "f42588a3-2019-44fa-de11-8590bb8bd849"
      },
      "source": [
        "#import cmath for complex number operations\n",
        "import cmath\n",
        "\n",
        "#find the hyperbolic cosine of a complex number\n",
        "print (cmath.cosh(1 + 2j))"
      ],
      "execution_count": null,
      "outputs": [
        {
          "output_type": "stream",
          "text": [
            "(-0.64214812471552+1.0686074213827783j)\n"
          ],
          "name": "stdout"
        }
      ]
    },
    {
      "cell_type": "code",
      "metadata": {
        "colab": {
          "base_uri": "https://localhost:8080/"
        },
        "id": "c-QkuR7topBr",
        "outputId": "f810e68f-74f3-4480-8666-881b46132b79"
      },
      "source": [
        "#import cmath for complex number operations\n",
        "import cmath\n",
        "\n",
        "#find the exponential of a complex number\n",
        "print (cmath.exp(- 2 - 3j))"
      ],
      "execution_count": null,
      "outputs": [
        {
          "output_type": "stream",
          "text": [
            "(-0.13398091492954262-0.019098516261135196j)\n"
          ],
          "name": "stdout"
        }
      ]
    },
    {
      "cell_type": "code",
      "metadata": {
        "colab": {
          "base_uri": "https://localhost:8080/"
        },
        "id": "zJJUPAYTosI7",
        "outputId": "2dedd8ce-7112-4201-af1f-31f42aad3f03"
      },
      "source": [
        "#Import cmath Library\n",
        "import cmath\n",
        "\n",
        "#compare the closeness of two complex values using relative tolerance\n",
        "print(cmath.isclose(10+5j, 10+5j))\n",
        "print(cmath.isclose(10+5j, 10.01+5j))"
      ],
      "execution_count": null,
      "outputs": [
        {
          "output_type": "stream",
          "text": [
            "True\n",
            "False\n"
          ],
          "name": "stdout"
        }
      ]
    },
    {
      "cell_type": "code",
      "metadata": {
        "colab": {
          "base_uri": "https://localhost:8080/"
        },
        "id": "k7khLBPdozh0",
        "outputId": "7e8cca26-df7c-44ea-b57d-a429678acbb2"
      },
      "source": [
        "#import cmath for complex number operations\n",
        "import cmath\n",
        "\n",
        "#find whether a complex number is finite or not\n",
        "print (cmath.isfinite(2 + 3j))\n",
        "print (cmath.isfinite(complex(5.0,float('inf'))))\n",
        "print (cmath.isfinite(float('inf')+ 5j))"
      ],
      "execution_count": null,
      "outputs": [
        {
          "output_type": "stream",
          "text": [
            "True\n",
            "False\n",
            "False\n"
          ],
          "name": "stdout"
        }
      ]
    },
    {
      "cell_type": "code",
      "metadata": {
        "colab": {
          "base_uri": "https://localhost:8080/"
        },
        "id": "nJYMtIr7pANC",
        "outputId": "060573cd-1622-41eb-9e72-a3cde09f3218"
      },
      "source": [
        "#import cmath for complex number operations\n",
        "import cmath\n",
        "\n",
        "#find whether a complex number is infinite or not\n",
        "print (cmath.isinf(complex(10 + float('inf'))))\n",
        "print (cmath.isinf(11 + 4j))"
      ],
      "execution_count": null,
      "outputs": [
        {
          "output_type": "stream",
          "text": [
            "True\n",
            "False\n"
          ],
          "name": "stdout"
        }
      ]
    },
    {
      "cell_type": "code",
      "metadata": {
        "colab": {
          "base_uri": "https://localhost:8080/"
        },
        "id": "c8sRkNEPpDNp",
        "outputId": "7eb85029-78e9-4078-d7c0-e25aa57f92b3"
      },
      "source": [
        "#import cmath for complex number operations\n",
        "import cmath\n",
        "\n",
        "#find whether a complex number is NaN or not\n",
        "print (cmath.isnan(12 + float('nan')))\n",
        "print (cmath.isnan(2 + 3j))"
      ],
      "execution_count": null,
      "outputs": [
        {
          "output_type": "stream",
          "text": [
            "True\n",
            "False\n"
          ],
          "name": "stdout"
        }
      ]
    },
    {
      "cell_type": "code",
      "metadata": {
        "colab": {
          "base_uri": "https://localhost:8080/"
        },
        "id": "ZLhUKbhcpSRW",
        "outputId": "2f5face6-2b17-4256-a46a-7f1119b682e4"
      },
      "source": [
        "#Import cmath Library\n",
        "import cmath\n",
        "\n",
        "#print log value of some given parameters\n",
        "print (cmath.log(1+ 1j))\n",
        "print (cmath.log(1, 2.5))"
      ],
      "execution_count": null,
      "outputs": [
        {
          "output_type": "stream",
          "text": [
            "(0.34657359027997264+0.7853981633974483j)\n",
            "0j\n"
          ],
          "name": "stdout"
        }
      ]
    },
    {
      "cell_type": "code",
      "metadata": {
        "colab": {
          "base_uri": "https://localhost:8080/"
        },
        "id": "W5paXnIJpbeB",
        "outputId": "8336ce51-c05e-483e-9ac4-d7a0753f4d0d"
      },
      "source": [
        "#Import cmath Library\n",
        "import cmath\n",
        "\n",
        "#print base-10 log value of complex numbers\n",
        "print (cmath.log10(2+ 3j))\n",
        "print (cmath.log10(1+ 2j))"
      ],
      "execution_count": null,
      "outputs": [
        {
          "output_type": "stream",
          "text": [
            "(0.5569716761534184+0.42682189085546657j)\n",
            "(0.3494850021680094+0.480828578784234j)\n"
          ],
          "name": "stdout"
        }
      ]
    },
    {
      "cell_type": "code",
      "metadata": {
        "colab": {
          "base_uri": "https://localhost:8080/"
        },
        "id": "ZAlR_jNOplXa",
        "outputId": "eb39fb47-9074-4424-c2cd-cd7db1e2c5a5"
      },
      "source": [
        "#Import cmath Library\n",
        "import cmath\n",
        "\n",
        "#print phase of some given parameters\n",
        "print (cmath.phase(2 + 3j))"
      ],
      "execution_count": null,
      "outputs": [
        {
          "output_type": "stream",
          "text": [
            "0.982793723247329\n"
          ],
          "name": "stdout"
        }
      ]
    },
    {
      "cell_type": "code",
      "metadata": {
        "colab": {
          "base_uri": "https://localhost:8080/"
        },
        "id": "Hei2QeK1ptWz",
        "outputId": "9ce746d3-cef4-453f-e733-11f8f5a7e629"
      },
      "source": [
        "#import cmath for complex number operations\n",
        "import cmath\n",
        "\n",
        "#find the polar coordinates of complex number\n",
        "print (cmath.polar(2 + 3j))\n",
        "print (cmath.polar(1 + 5j))"
      ],
      "execution_count": null,
      "outputs": [
        {
          "output_type": "stream",
          "text": [
            "(3.605551275463989, 0.982793723247329)\n",
            "(5.0990195135927845, 1.373400766945016)\n"
          ],
          "name": "stdout"
        }
      ]
    },
    {
      "cell_type": "code",
      "metadata": {
        "colab": {
          "base_uri": "https://localhost:8080/"
        },
        "id": "MPePdrjtp1gW",
        "outputId": "f67c2c6e-5799-47da-a66a-1cbbdb964c45"
      },
      "source": [
        "#import cmath for complex number operations\n",
        "import cmath\n",
        "\n",
        "#convert a polar coordinate to rectangular form\n",
        "print(cmath.rect(3.1622776601683795, 1.2490457723982544))"
      ],
      "execution_count": null,
      "outputs": [
        {
          "output_type": "stream",
          "text": [
            "(1+3j)\n"
          ],
          "name": "stdout"
        }
      ]
    },
    {
      "cell_type": "code",
      "metadata": {
        "colab": {
          "base_uri": "https://localhost:8080/"
        },
        "id": "C9GXBMZTp8Fd",
        "outputId": "6608171e-4167-45e1-a4b8-786698f71b9a"
      },
      "source": [
        "#import cmath for complex number operations\n",
        "import cmath\n",
        "\n",
        "#find the sine of complex number\n",
        "print (cmath.sin(2 + 3j))"
      ],
      "execution_count": null,
      "outputs": [
        {
          "output_type": "stream",
          "text": [
            "(9.15449914691143-4.168906959966565j)\n"
          ],
          "name": "stdout"
        }
      ]
    },
    {
      "cell_type": "code",
      "metadata": {
        "colab": {
          "base_uri": "https://localhost:8080/"
        },
        "id": "4JT9bTV_qBfi",
        "outputId": "b553eec9-9006-4db4-914a-112b9d65cbbd"
      },
      "source": [
        "#importing cmath for complex number operations\n",
        "import cmath\n",
        "\n",
        "#find the hyperbolic sine of a complex number\n",
        "print (cmath.sinh(2 + 3j))"
      ],
      "execution_count": null,
      "outputs": [
        {
          "output_type": "stream",
          "text": [
            "(-3.59056458998578+0.5309210862485197j)\n"
          ],
          "name": "stdout"
        }
      ]
    },
    {
      "cell_type": "code",
      "metadata": {
        "colab": {
          "base_uri": "https://localhost:8080/"
        },
        "id": "rcFhaYQdqHpx",
        "outputId": "1e4b4819-9d91-4c2f-ec97-02255780b4da"
      },
      "source": [
        "#Import cmath Library\n",
        "import cmath\n",
        "\n",
        "#Return the square root of a complex number\n",
        "print (cmath.sqrt(2 + 3j))\n",
        "print (cmath.sqrt(15))"
      ],
      "execution_count": null,
      "outputs": [
        {
          "output_type": "stream",
          "text": [
            "(1.6741492280355401+0.8959774761298381j)\n",
            "(3.872983346207417+0j)\n"
          ],
          "name": "stdout"
        }
      ]
    },
    {
      "cell_type": "code",
      "metadata": {
        "colab": {
          "base_uri": "https://localhost:8080/"
        },
        "id": "RhTCNHqsqTHR",
        "outputId": "ae797e7a-b588-4ae2-b1ea-8a47116769fd"
      },
      "source": [
        "#Import cmath Library\n",
        "import cmath\n",
        "\n",
        "#Return the tangent of a complex number\n",
        "print (cmath.tan(2 + 3j))"
      ],
      "execution_count": null,
      "outputs": [
        {
          "output_type": "stream",
          "text": [
            "(-0.003764025641504249+1.00323862735361j)\n"
          ],
          "name": "stdout"
        }
      ]
    },
    {
      "cell_type": "code",
      "metadata": {
        "colab": {
          "base_uri": "https://localhost:8080/"
        },
        "id": "q9SZbOoxqY0M",
        "outputId": "249a461b-f1f0-41e3-9fdd-6eaef75d87f0"
      },
      "source": [
        "#Import cmath Library\n",
        "import cmath\n",
        "\n",
        "#Return the hyperbolic tangent of a complex number\n",
        "print (cmath.tanh(2 + 3j))"
      ],
      "execution_count": null,
      "outputs": [
        {
          "output_type": "stream",
          "text": [
            "(0.965385879022133-0.009884375038322495j)\n"
          ],
          "name": "stdout"
        }
      ]
    },
    {
      "cell_type": "code",
      "metadata": {
        "colab": {
          "base_uri": "https://localhost:8080/"
        },
        "id": "BOglJ30zqj-7",
        "outputId": "0dcc7392-3655-46f7-dda5-db8848c3b89e"
      },
      "source": [
        "# Import cmath Library\n",
        "import cmath\n",
        "\n",
        "# Print the value of Euler e\n",
        "print (cmath.e)"
      ],
      "execution_count": null,
      "outputs": [
        {
          "output_type": "stream",
          "text": [
            "2.718281828459045\n"
          ],
          "name": "stdout"
        }
      ]
    },
    {
      "cell_type": "code",
      "metadata": {
        "colab": {
          "base_uri": "https://localhost:8080/"
        },
        "id": "YZ8QoJmJqlb0",
        "outputId": "c4e50284-ff73-4fcb-9c25-887535680015"
      },
      "source": [
        "#Import cmath Library\n",
        "import cmath\n",
        "\n",
        "# Print the positive infinity\n",
        "print (cmath.inf)\n",
        "\n",
        "# Print the negative infinity\n",
        "print (-cmath.inf)"
      ],
      "execution_count": null,
      "outputs": [
        {
          "output_type": "stream",
          "text": [
            "inf\n",
            "-inf\n"
          ],
          "name": "stdout"
        }
      ]
    },
    {
      "cell_type": "code",
      "metadata": {
        "colab": {
          "base_uri": "https://localhost:8080/"
        },
        "id": "92hrI7rXqyTB",
        "outputId": "98b3f5f5-afa9-4bcd-aea2-294d18413b71"
      },
      "source": [
        "#Import cmath Library\n",
        "import cmath\n",
        "\n",
        "# Print complex infinity\n",
        "print (cmath.infj)"
      ],
      "execution_count": null,
      "outputs": [
        {
          "output_type": "stream",
          "text": [
            "infj\n"
          ],
          "name": "stdout"
        }
      ]
    },
    {
      "cell_type": "code",
      "metadata": {
        "colab": {
          "base_uri": "https://localhost:8080/"
        },
        "id": "j5fnTIi-q4iD",
        "outputId": "81b1a3f2-63fd-4f5c-8d36-6d262fa3355c"
      },
      "source": [
        "#Import cmath Library\n",
        "import cmath\n",
        "\n",
        "# Print the value of nan\n",
        "print (cmath.nan)"
      ],
      "execution_count": null,
      "outputs": [
        {
          "output_type": "stream",
          "text": [
            "nan\n"
          ],
          "name": "stdout"
        }
      ]
    },
    {
      "cell_type": "code",
      "metadata": {
        "colab": {
          "base_uri": "https://localhost:8080/"
        },
        "id": "NB2uzOFBq9CA",
        "outputId": "60bf639b-ed8e-480d-835a-7b6417a63dcf"
      },
      "source": [
        "#Import cmath Library\n",
        "import cmath\n",
        "\n",
        "# Print the value of nan\n",
        "print (cmath.nanj)\n",
        "print (type(cmath.nanj))"
      ],
      "execution_count": null,
      "outputs": [
        {
          "output_type": "stream",
          "text": [
            "nanj\n",
            "<class 'complex'>\n"
          ],
          "name": "stdout"
        }
      ]
    },
    {
      "cell_type": "code",
      "metadata": {
        "colab": {
          "base_uri": "https://localhost:8080/"
        },
        "id": "7o1RjCUyrDQM",
        "outputId": "ae8f8c55-e6c0-4c3d-9ff6-55ef4ca085da"
      },
      "source": [
        "#Import cmath Library\n",
        "import cmath\n",
        "\n",
        "# Print the value of pi\n",
        "print (cmath.pi)"
      ],
      "execution_count": null,
      "outputs": [
        {
          "output_type": "stream",
          "text": [
            "3.141592653589793\n"
          ],
          "name": "stdout"
        }
      ]
    },
    {
      "cell_type": "code",
      "metadata": {
        "colab": {
          "base_uri": "https://localhost:8080/"
        },
        "id": "TTftM7a_rH97",
        "outputId": "8f8a08ee-4679-4bfa-95c2-a4c1e94bab71"
      },
      "source": [
        "#Import cmath Library\n",
        "import cmath\n",
        "\n",
        "#Print the value of tau\n",
        "print (cmath.tau)"
      ],
      "execution_count": null,
      "outputs": [
        {
          "output_type": "stream",
          "text": [
            "6.283185307179586\n"
          ],
          "name": "stdout"
        }
      ]
    }
  ]
}