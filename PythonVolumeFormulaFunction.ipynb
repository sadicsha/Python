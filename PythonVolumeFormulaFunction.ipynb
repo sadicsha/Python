{
  "nbformat": 4,
  "nbformat_minor": 0,
  "metadata": {
    "colab": {
      "name": "PythonVolumeFormulaFunction.ipynb",
      "provenance": [],
      "collapsed_sections": [],
      "include_colab_link": true
    },
    "kernelspec": {
      "display_name": "Python 3",
      "language": "python",
      "name": "python3"
    },
    "language_info": {
      "codemirror_mode": {
        "name": "ipython",
        "version": 3
      },
      "file_extension": ".py",
      "mimetype": "text/x-python",
      "name": "python",
      "nbconvert_exporter": "python",
      "pygments_lexer": "ipython3",
      "version": "3.9.5"
    }
  },
  "cells": [
    {
      "cell_type": "markdown",
      "metadata": {
        "id": "view-in-github",
        "colab_type": "text"
      },
      "source": [
        "<a href=\"https://colab.research.google.com/github/sadicsha/SADICSHA_KHANDAIT_Python_basic_codes/blob/main/PythonVolumeFormulaFunction.ipynb\" target=\"_parent\"><img src=\"https://colab.research.google.com/assets/colab-badge.svg\" alt=\"Open In Colab\"/></a>"
      ]
    },
    {
      "cell_type": "markdown",
      "metadata": {
        "id": "fGlHiePRC1iV"
      },
      "source": [
        "# Volume of different shapes\n",
        "\n",
        "Cube\t\tCube\tV=s3\ts: side\n",
        "\n",
        "Parallelepiped\tParallelepiped\tV=l×w×h\tl: length\tw: width\th: height\n",
        "\n",
        "Regular prism\tPrism\tV=b×h\tb: base\th: height\n",
        "\n",
        "Cylinder\t\tCylinder\tV=πr2×h\tr: radius\th: height\n",
        "\n",
        "Cone (or pyramid)\tCone\tV=13b×h\tb: base\th: height\n",
        "\n",
        "Sphere\t\tSphere\tV=43πr3\tr: radius"
      ]
    },
    {
      "cell_type": "code",
      "metadata": {
        "id": "qahSWVIpCnt5"
      },
      "source": [
        "def VolumeofCube (side):\n",
        "  print(\"Volumeof-Cube is: \", side * side * side)"
      ],
      "execution_count": null,
      "outputs": []
    },
    {
      "cell_type": "code",
      "metadata": {
        "colab": {
          "base_uri": "https://localhost:8080/"
        },
        "id": "7-CWiHIxE1YJ",
        "outputId": "14b3376b-4aac-498a-cae4-ca7a3b404bc4"
      },
      "source": [
        "VolumeofCube(25)"
      ],
      "execution_count": null,
      "outputs": [
        {
          "output_type": "stream",
          "text": [
            "Volumeof-Cube is:  15625\n"
          ],
          "name": "stdout"
        }
      ]
    },
    {
      "cell_type": "markdown",
      "metadata": {
        "id": "0RcAPf6Povry"
      },
      "source": [
        ""
      ]
    },
    {
      "cell_type": "code",
      "metadata": {
        "id": "tp8-lp5eE5R4"
      },
      "source": [
        "def VolumeofParallelepiped (length, width, height):\n",
        "  print(\"Volumeof-Parallelepiped\", length * width * height)"
      ],
      "execution_count": null,
      "outputs": []
    },
    {
      "cell_type": "code",
      "metadata": {
        "colab": {
          "base_uri": "https://localhost:8080/"
        },
        "id": "ze-y3qq-FRm7",
        "outputId": "3a13c3e7-44e4-4eb4-f655-9bf99826c45f"
      },
      "source": [
        "VolumeofParallelepiped(15, 25, 35)"
      ],
      "execution_count": null,
      "outputs": [
        {
          "output_type": "stream",
          "text": [
            "Volumeof-Parallelepiped 13125\n"
          ],
          "name": "stdout"
        }
      ]
    },
    {
      "cell_type": "code",
      "metadata": {
        "id": "baflFjzKFgJq"
      },
      "source": [
        "def VolumeofRegularPrism (base, height):\n",
        "  print(\"Volumeof-Regular Prism is: \", base * height)"
      ],
      "execution_count": null,
      "outputs": []
    },
    {
      "cell_type": "code",
      "metadata": {
        "colab": {
          "base_uri": "https://localhost:8080/"
        },
        "id": "AY1nPHEIGCwS",
        "outputId": "55a2dc78-a858-4b74-b36d-2792eeba9e34"
      },
      "source": [
        "VolumeofRegularPrism(13,26)"
      ],
      "execution_count": null,
      "outputs": [
        {
          "output_type": "stream",
          "text": [
            "Volumeof-Regular Prism is:  338\n"
          ],
          "name": "stdout"
        }
      ]
    },
    {
      "cell_type": "code",
      "metadata": {
        "id": "6KdzsCZ_GHY5"
      },
      "source": [
        "def VolumeofCylinder (radius, height):\n",
        "  pi = 3.141592653589793238\n",
        "  print(\"Volumeof-Cylinder is: \", pi * (radius * radius) * height)"
      ],
      "execution_count": null,
      "outputs": []
    },
    {
      "cell_type": "code",
      "metadata": {
        "colab": {
          "base_uri": "https://localhost:8080/"
        },
        "id": "NYOzv3mriSO4",
        "outputId": "7a1dd120-bc55-4950-808f-884e3f2497ff"
      },
      "source": [
        "VolumeofCylinder(12, 24)"
      ],
      "execution_count": null,
      "outputs": [
        {
          "output_type": "stream",
          "text": [
            "Volumeof-Cylinder is:  10857.344210806325\n"
          ],
          "name": "stdout"
        }
      ]
    },
    {
      "cell_type": "code",
      "metadata": {
        "id": "mso6i3kVm4Rp"
      },
      "source": [
        "def VolumeofCone (base, height):\n",
        "  print(\"Volumeof-Cone is: \", (1/3) * base * height)"
      ],
      "execution_count": null,
      "outputs": []
    },
    {
      "cell_type": "code",
      "metadata": {
        "colab": {
          "base_uri": "https://localhost:8080/"
        },
        "id": "PLQVfsT5njKR",
        "outputId": "05bd9c8f-87c1-43c0-fe89-9c846a929b46"
      },
      "source": [
        "VolumeofCone(19, 23)"
      ],
      "execution_count": null,
      "outputs": [
        {
          "output_type": "stream",
          "text": [
            "Volumeof-Cone is:  145.66666666666666\n"
          ],
          "name": "stdout"
        }
      ]
    },
    {
      "cell_type": "code",
      "metadata": {
        "id": "JzxqJrhxnu7k"
      },
      "source": [
        "def VolumeofSphere (radius):\n",
        "  pi = 3.141592653589793238\n",
        "  print(\"Volumeof-Sphere is: \", (4/3) * pi * (radius ** 3))"
      ],
      "execution_count": null,
      "outputs": []
    },
    {
      "cell_type": "code",
      "metadata": {
        "colab": {
          "base_uri": "https://localhost:8080/"
        },
        "id": "oZ895UvFoe4M",
        "outputId": "23d1f5c4-a6ec-407b-d587-a85cc74497e9"
      },
      "source": [
        "VolumeofSphere(19)"
      ],
      "execution_count": null,
      "outputs": [
        {
          "output_type": "stream",
          "text": [
            "Volumeof-Sphere is:  28730.912014629852\n"
          ],
          "name": "stdout"
        }
      ]
    }
  ]
}