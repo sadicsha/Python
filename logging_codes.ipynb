{
  "nbformat": 4,
  "nbformat_minor": 0,
  "metadata": {
    "colab": {
      "name": "logging_codes.ipynb",
      "provenance": [],
      "authorship_tag": "ABX9TyNz009+vG0/NkAmZOqUG0RJ",
      "include_colab_link": true
    },
    "kernelspec": {
      "name": "python3",
      "display_name": "Python 3"
    },
    "language_info": {
      "name": "python"
    }
  },
  "cells": [
    {
      "cell_type": "markdown",
      "metadata": {
        "id": "view-in-github",
        "colab_type": "text"
      },
      "source": [
        "<a href=\"https://colab.research.google.com/github/sadicsha/SADICSHA_KHANDAIT_Python_basic_codes/blob/main/logging_codes.ipynb\" target=\"_parent\"><img src=\"https://colab.research.google.com/assets/colab-badge.svg\" alt=\"Open In Colab\"/></a>"
      ]
    },
    {
      "cell_type": "code",
      "metadata": {
        "colab": {
          "base_uri": "https://localhost:8080/"
        },
        "id": "TGUjfOxuKujM",
        "outputId": "9ac056a0-eb2e-4013-d04f-07eaaf8924c0"
      },
      "source": [
        "import logging\n",
        "\n",
        "logging.basicConfig(level=logging.DEBUG)\n",
        "\n",
        "def add(x,y):\n",
        "  return x+y\n",
        "\n",
        "def sub(x,y):\n",
        "  return x-y\n",
        "\n",
        "def mul(x,y):\n",
        "  return x*y\n",
        "\n",
        "def div(x,y):\n",
        "  return x/y\n",
        "\n",
        "num_1 = 10\n",
        "num_2 = 5\n",
        "\n",
        "add_result=add(num_1,num_2)\n",
        "logging.debug('Add:{}+{}={}'.format(num_1,num_2,add_result))\n",
        "\n",
        "sub_result=sub(num_1,num_2)\n",
        "logging.debug('SUB:{}-{}={}'.format(num_1,num_2,sub_result))\n",
        "\n",
        "mul_result=mul(num_1,num_2)\n",
        "logging.debug('MUL:{}*{}={}'.format(num_1,num_2,mul_result))\n",
        "\n",
        "div_result=div(num_1,num_2)\n",
        "logging.debug('DIV:{}/{}={}'.format(num_1,num_2,div_result))"
      ],
      "execution_count": 1,
      "outputs": [
        {
          "output_type": "stream",
          "text": [
            "DEBUG:root:Add:10+5=15\n",
            "DEBUG:root:SUB:10-5=5\n",
            "DEBUG:root:MUL:10*5=50\n",
            "DEBUG:root:DIV:10/5=2.0\n",
            "DEBUG:matplotlib.pyplot:Loaded backend module://ipykernel.pylab.backend_inline version unknown.\n"
          ],
          "name": "stderr"
        }
      ]
    }
  ]
}